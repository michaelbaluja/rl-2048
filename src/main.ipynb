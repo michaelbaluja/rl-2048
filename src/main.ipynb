{
 "cells": [
  {
   "cell_type": "markdown",
   "metadata": {},
   "source": [
    "# Imports"
   ]
  },
  {
   "cell_type": "code",
   "execution_count": null,
   "metadata": {
    "id": "2gbjcF03F4Pq"
   },
   "outputs": [],
   "source": [
    "from env import Env2048\n",
    "from agent import AgentMC, AgentTD, AgentSARSA\n",
    "from utils.grapher import grapher\n",
    "\n",
    "import matplotlib.pyplot as plt\n",
    "import numpy as np"
   ]
  },
  {
   "cell_type": "code",
   "execution_count": null,
   "metadata": {},
   "outputs": [],
   "source": [
    "import warnings\n",
    "warnings.filterwarnings('ignore')"
   ]
  },
  {
   "cell_type": "markdown",
   "metadata": {},
   "source": [
    "# Monte Carlo"
   ]
  },
  {
   "cell_type": "code",
   "execution_count": null,
   "metadata": {},
   "outputs": [],
   "source": [
    "# Define hyperparameters\n",
    "alpha_mc = 0.001\n",
    "epsilon_mc = 0.8\n",
    "momentum_mc = 0.15\n",
    "epoch_mc = 100"
   ]
  },
  {
   "cell_type": "code",
   "execution_count": null,
   "metadata": {
    "id": "S1xKlLcYNzCU",
    "scrolled": true
   },
   "outputs": [],
   "source": [
    "# Create agent and run\n",
    "agent_mc = AgentMC(alpha=alpha_mc, epsilon=epsilon_mc, momentum=momentum_mc)\n",
    "max_pieces_mc, learning_reward_mc, lengths_mc = agent_mc.run(epoch=epoch_mc)"
   ]
  },
  {
   "cell_type": "markdown",
   "metadata": {},
   "source": [
    "## Graphing"
   ]
  },
  {
   "cell_type": "code",
   "execution_count": null,
   "metadata": {},
   "outputs": [],
   "source": [
    "# Graph Learning State Reward \n",
    "grapher(learning_reward_mc, title='Monte Carlo Learning Reward', x_label='Episode', y_label=' Network Reward', \n",
    "        save_file='../images/mc_learning_reward.png')"
   ]
  },
  {
   "cell_type": "code",
   "execution_count": null,
   "metadata": {},
   "outputs": [],
   "source": [
    "# Graph Max Piece per Episode\n",
    "grapher(max_pieces_mc, title='Monte Carlo Max Pieces', x_label='Episode', y_label='Tile Number',\n",
    "       save_file='../images/mc_max_pieces.png')"
   ]
  },
  {
   "cell_type": "code",
   "execution_count": null,
   "metadata": {},
   "outputs": [],
   "source": [
    "# Graph Episode Length\n",
    "grapher(lengths_mc, title='Monte Carlo Episode Length', x_label='Episode', y_label='Episode Length',\n",
    "       save_file='../images/mc_lengths.png')"
   ]
  },
  {
   "cell_type": "markdown",
   "metadata": {},
   "source": [
    "# SARSA"
   ]
  },
  {
   "cell_type": "code",
   "execution_count": null,
   "metadata": {},
   "outputs": [],
   "source": [
    "# Define hyperparameters\n",
    "alpha_sarsa = 0.0001\n",
    "epsilon_sarsa = 0.8\n",
    "momentum_sarsa = 0.15\n",
    "epoch_sarsa = 100"
   ]
  },
  {
   "cell_type": "code",
   "execution_count": null,
   "metadata": {},
   "outputs": [],
   "source": [
    "# Create agent and run\n",
    "agent_sarsa = AgentSARSA(alpha=alpha_sarsa, epsilon=epsilon_sarsa, momentum=momentum_sarsa)\n",
    "max_pieces_sarsa, learning_reward_sarsa = agent_sarsa.run(epoch=epoch_sarsa)"
   ]
  },
  {
   "cell_type": "markdown",
   "metadata": {},
   "source": [
    "## Graphing"
   ]
  },
  {
   "cell_type": "code",
   "execution_count": null,
   "metadata": {},
   "outputs": [],
   "source": [
    "# Graph Learning State Reward\n",
    "grapher(learning_reward_sarsa, title='SARSA Learning Reward', x_label='Episode', y_label='Network Reward',\n",
    "       save_file='../images/sarsa_learning_reward.png')"
   ]
  },
  {
   "cell_type": "code",
   "execution_count": null,
   "metadata": {},
   "outputs": [],
   "source": [
    "# Grad Max Piece per Episode\n",
    "grapher(max_pieces_sarsa, title='SARSA Max Pieces', x_label='Episode', y_label='Tile Number',\n",
    "       save_file='../images/sarsa_max_pieces.png')"
   ]
  }
 ],
 "metadata": {
  "accelerator": "GPU",
  "colab": {
   "collapsed_sections": [],
   "name": "main.ipynb",
   "provenance": []
  },
  "kernelspec": {
   "display_name": "Python 3",
   "language": "python",
   "name": "python3"
  },
  "language_info": {
   "codemirror_mode": {
    "name": "ipython",
    "version": 3
   },
   "file_extension": ".py",
   "mimetype": "text/x-python",
   "name": "python",
   "nbconvert_exporter": "python",
   "pygments_lexer": "ipython3",
   "version": "3.9.2"
  }
 },
 "nbformat": 4,
 "nbformat_minor": 1
}
